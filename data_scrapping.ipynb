{
 "cells": [
  {
   "cell_type": "code",
   "execution_count": 1,
   "id": "3fd6b5ba-6149-4a49-98ad-f8fe6a5f0235",
   "metadata": {},
   "outputs": [],
   "source": [
    "import pandas as pd\n",
    "import requests\n",
    "from bs4 import BeautifulSoup as bs"
   ]
  },
  {
   "cell_type": "code",
   "execution_count": 2,
   "id": "694e1132-f518-4e36-85bb-cdf19c01838e",
   "metadata": {},
   "outputs": [],
   "source": [
    "url='https://fbref.com/en/players/7111d552/matchlogs/2023-2024/Vinicius-Junior-Match-Logs'\n",
    "player='Vini'\n",
    "ping=requests.get(url)\n",
    "soup=bs(ping.text,\"html.parser\")"
   ]
  },
  {
   "cell_type": "code",
   "execution_count": 3,
   "id": "984ffe91-f923-48e2-93e6-659226fbb6ee",
   "metadata": {},
   "outputs": [],
   "source": [
    "headers=soup.find('tr',class_=False)\n",
    "cols=[]\n",
    "for header in headers.find_all('th'):\n",
    "    cols.append(header.text)"
   ]
  },
  {
   "cell_type": "code",
   "execution_count": 4,
   "id": "18d787f6-ec33-46fd-b79a-3aeae694bad2",
   "metadata": {},
   "outputs": [],
   "source": [
    "df=pd.DataFrame(columns=cols)"
   ]
  },
  {
   "cell_type": "code",
   "execution_count": 6,
   "id": "74828c68-4c41-41ba-854a-c6249a324542",
   "metadata": {},
   "outputs": [],
   "source": [
    "data_rows=soup.find_all('tr',class_=False)[1:-1]\n",
    "for rows in data_rows:\n",
    "    row_data=[]\n",
    "    #Date\n",
    "    row_data.append(rows.find('th').text)\n",
    "    for data in rows.find_all('td'):\n",
    "        row_data.append(data.text)\n",
    "    index=len(df)\n",
    "    df.loc[index]=row_data\n",
    "df['Date']=pd.to_datetime(df['Date'])"
   ]
  },
  {
   "cell_type": "code",
   "execution_count": null,
   "id": "8ad90352-ba3f-47d3-b6f2-d71ddaa434d8",
   "metadata": {},
   "outputs": [],
   "source": [
    "filename=player+'.csv'\n",
    "df.to_csv(filename,index=False)"
   ]
  },
  {
   "cell_type": "code",
   "execution_count": null,
   "id": "0c932cc2-73a8-47b6-9304-80cd68a50b4c",
   "metadata": {},
   "outputs": [],
   "source": []
  }
 ],
 "metadata": {
  "kernelspec": {
   "display_name": "Python 3 (ipykernel)",
   "language": "python",
   "name": "python3"
  },
  "language_info": {
   "codemirror_mode": {
    "name": "ipython",
    "version": 3
   },
   "file_extension": ".py",
   "mimetype": "text/x-python",
   "name": "python",
   "nbconvert_exporter": "python",
   "pygments_lexer": "ipython3",
   "version": "3.12.5"
  }
 },
 "nbformat": 4,
 "nbformat_minor": 5
}
