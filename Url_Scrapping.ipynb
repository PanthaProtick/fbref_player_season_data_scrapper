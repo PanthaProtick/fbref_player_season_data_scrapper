{
 "cells": [
  {
   "cell_type": "code",
   "execution_count": 61,
   "id": "dcda343b-b9d6-4ca8-8205-7da6f4865a6b",
   "metadata": {},
   "outputs": [],
   "source": [
    "import pandas as pd\n",
    "import requests\n",
    "from bs4 import BeautifulSoup as bs"
   ]
  },
  {
   "cell_type": "code",
   "execution_count": 62,
   "id": "a813062f-4bcd-47a6-836a-5bdab9db1ae5",
   "metadata": {},
   "outputs": [],
   "source": [
    "alias='NED'\n",
    "country='Netherlands'\n",
    "url='https://fbref.com/en/country/players/'+alias+'/'+country+'-Football-Players'\n",
    "ping=requests.get(url)\n",
    "soup=bs(ping.text,'html.parser')\n",
    "df=pd.DataFrame(columns=['Name','Link'])"
   ]
  },
  {
   "cell_type": "code",
   "execution_count": 63,
   "id": "3295ba85-405d-45bd-aaa0-e879c6e8ecbe",
   "metadata": {},
   "outputs": [],
   "source": [
    "player_div=soup.find('div',class_='section_content')"
   ]
  },
  {
   "cell_type": "code",
   "execution_count": 64,
   "id": "1c3b57b6-40cd-43d5-b2a4-3a15a5b7fcea",
   "metadata": {},
   "outputs": [],
   "source": [
    "rows=player_div.find_all('a')"
   ]
  },
  {
   "cell_type": "code",
   "execution_count": 65,
   "id": "348a4423-76d7-4362-bd60-e350735710bd",
   "metadata": {},
   "outputs": [],
   "source": [
    "prot='https://fbref.com'\n",
    "for row in rows:\n",
    "    data=[row.text,prot+row['href']]\n",
    "    index=len(df)\n",
    "    df.loc[index]=data\n",
    "df=df.set_index('Name')"
   ]
  },
  {
   "cell_type": "code",
   "execution_count": 76,
   "id": "d2b18781-ee5f-44e1-9c50-c2373f222907",
   "metadata": {},
   "outputs": [
    {
     "name": "stdout",
     "output_type": "stream",
     "text": [
      "Player Not Found\n"
     ]
    }
   ],
   "source": [
    "try:\n",
    "    url=df.loc['Sus']['Link']\n",
    "except Exception as e:\n",
    "    print(\"Player Not Found\")"
   ]
  },
  {
   "cell_type": "code",
   "execution_count": null,
   "id": "0a0445ef-907d-4cbf-ab26-f4e17137a93e",
   "metadata": {},
   "outputs": [],
   "source": []
  }
 ],
 "metadata": {
  "kernelspec": {
   "display_name": "Python 3 (ipykernel)",
   "language": "python",
   "name": "python3"
  },
  "language_info": {
   "codemirror_mode": {
    "name": "ipython",
    "version": 3
   },
   "file_extension": ".py",
   "mimetype": "text/x-python",
   "name": "python",
   "nbconvert_exporter": "python",
   "pygments_lexer": "ipython3",
   "version": "3.12.5"
  }
 },
 "nbformat": 4,
 "nbformat_minor": 5
}
