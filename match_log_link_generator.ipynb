{
 "cells": [
  {
   "cell_type": "code",
   "execution_count": 1,
   "id": "ed13ce8a-b9c2-4d24-abe3-373b49e72e2e",
   "metadata": {},
   "outputs": [],
   "source": [
    "import pandas as pd\n",
    "import requests\n",
    "from bs4 import BeautifulSoup as bs"
   ]
  },
  {
   "cell_type": "code",
   "execution_count": 3,
   "id": "b1bc5766-5ee9-4be5-815f-3817ea6d5d60",
   "metadata": {},
   "outputs": [
    {
     "data": {
      "text/plain": [
       "['https:', '', 'fbref.com', 'en', 'players', 'd70ce98e', 'Lionel-Messi']"
      ]
     },
     "execution_count": 3,
     "metadata": {},
     "output_type": "execute_result"
    }
   ],
   "source": [
    "url='https://fbref.com/en/players/d70ce98e/Lionel-Messi'\n",
    "season='2011-2012'\n",
    "string=url.split('/')"
   ]
  },
  {
   "cell_type": "code",
   "execution_count": 7,
   "id": "a5dcc654-6d0c-41d1-8d9c-73b57198287b",
   "metadata": {},
   "outputs": [
    {
     "data": {
      "text/plain": [
       "'https://fbref.com/en/players/d70ce98e/matchlogs/2011-2012/Lionel-Messi-Match-Logs'"
      ]
     },
     "execution_count": 7,
     "metadata": {},
     "output_type": "execute_result"
    }
   ],
   "source": [
    "newString=''\n",
    "for i in range(6):\n",
    "    newString+=(string[i]+'/')\n",
    "newString=newString+'matchlogs/'+season+'/'+string[6]+'-Match-Logs'\n",
    "url=newString\n",
    "url"
   ]
  },
  {
   "cell_type": "code",
   "execution_count": null,
   "id": "ad2d5f99-da19-48e7-a55a-03b66ad0c0be",
   "metadata": {},
   "outputs": [],
   "source": []
  }
 ],
 "metadata": {
  "kernelspec": {
   "display_name": "Python 3 (ipykernel)",
   "language": "python",
   "name": "python3"
  },
  "language_info": {
   "codemirror_mode": {
    "name": "ipython",
    "version": 3
   },
   "file_extension": ".py",
   "mimetype": "text/x-python",
   "name": "python",
   "nbconvert_exporter": "python",
   "pygments_lexer": "ipython3",
   "version": "3.12.5"
  }
 },
 "nbformat": 4,
 "nbformat_minor": 5
}
